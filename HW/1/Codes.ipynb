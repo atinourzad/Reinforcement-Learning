{
 "cells": [
  {
   "cell_type": "markdown",
   "metadata": {},
   "source": [
    "# Question 2:"
   ]
  },
  {
   "cell_type": "code",
   "execution_count": null,
   "metadata": {
    "scrolled": true
   },
   "outputs": [],
   "source": [
    "import numpy as np\n",
    "import matplotlib.pyplot as plt\n",
    "\n",
    "w = np.arange(-5., 5., 0.02)\n",
    "u1 = w**4\n",
    "u2 = np.log10(w[251:])\n",
    "u3 = np.power(2,w)\n",
    "u4 = np.tanh(w)\n",
    "\n",
    "plt.plot(w, u1, 'c--')\n",
    "plt.grid(True)\n",
    "plt.title('w^4')\n",
    "plt.show()\n",
    "\n",
    "plt.plot(w[251:], u2, 'c--')\n",
    "plt.grid(True)\n",
    "plt.title('log(w)')\n",
    "plt.show()\n",
    "\n",
    "plt.plot(w, u3, 'c--')\n",
    "plt.grid(True)\n",
    "plt.title('2^w')\n",
    "plt.show()\n",
    "\n",
    "plt.plot(w, u4, 'c--')\n",
    "plt.grid(True)\n",
    "plt.title('tanh(w)')\n",
    "plt.show()\n",
    "\n"
   ]
  },
  {
   "cell_type": "markdown",
   "metadata": {},
   "source": [
    "# Question 4:"
   ]
  },
  {
   "cell_type": "markdown",
   "metadata": {},
   "source": [
    "Hypothesis 1:"
   ]
  },
  {
   "cell_type": "code",
   "execution_count": 98,
   "metadata": {},
   "outputs": [
    {
     "name": "stdout",
     "output_type": "stream",
     "text": [
      "{'ab': 0.1510791366906475, 'ac': 0.8489208633093526, 'ba': 0.1935483870967742, 'bc': 0.8064516129032258, 'ca': 0.6269430051813472, 'cb': 0.37305699481865284}\n"
     ]
    }
   ],
   "source": [
    "import numpy as np\n",
    "\n",
    "def findGuardStartCell(cells):\n",
    "    cellIndex = np.random.choice(np.arange(0,3))\n",
    "    return cellIndex\n",
    "\n",
    "def findNextCell(cellsProb):\n",
    "    return np.random.choice(np.arange(0,3), p=cellsProb)\n",
    "        \n",
    "def updateCellProb(cells, cellsProb, currCell, numIter=2, cellsChoiceNum = []):\n",
    "    \n",
    "    if all(i==0 for i in cellsProb) or numIter < 5:\n",
    "        for i in range(3):\n",
    "            if not i == currCell:\n",
    "                cellsProb[i] = 0.5\n",
    "        cellsProb[currCell] = 0  \n",
    "        \n",
    "    elif numIter > 4 :\n",
    "        sumAllChoices = sum(cellsChoiceNum)\n",
    "        for i in range(3):\n",
    "            cellsProb[i] = cellsChoiceNum[i] / sumAllChoices\n",
    "    \n",
    "    return cellsProb\n",
    "\n",
    "def updateGuardPath(guardPathInfo, currCell, nextCell, cells):\n",
    "    allMoves = list(guardPathInfo.keys())\n",
    "    \n",
    "    for i in range(6):\n",
    "        if allMoves[i][0] == cells[currCell] and allMoves[i][1] == cells[nextCell]:\n",
    "            guardPathInfo[allMoves[i]] = guardPathInfo[allMoves[i]] + 1\n",
    "            \n",
    "    return guardPathInfo\n",
    "\n",
    "def updatePathInfo(guardPathInfo):\n",
    "    allMoves = list(guardPathInfo.keys())\n",
    "    \n",
    "    for i in range(6):\n",
    "        if i%2 == 0:\n",
    "            totalCellMoves = guardPathInfo[allMoves[i]] + guardPathInfo[allMoves[i+1]]\n",
    "            guardPathInfo[allMoves[i]] = guardPathInfo[allMoves[i]] / totalCellMoves\n",
    "            guardPathInfo[allMoves[i+1]] = guardPathInfo[allMoves[i+1]] / totalCellMoves\n",
    "    return guardPathInfo        \n",
    "    \n",
    "def findProb(cells, startCell, cellsChoiceNum, guardPathInfo):\n",
    "    #setting initial probability\n",
    "    #iteration 1\n",
    "    cellsProb = [0 for i in range(3)]\n",
    "    cellsProb = updateCellProb(cells, cellsProb, startCell)\n",
    "    nextCell = findNextCell(cellsProb)\n",
    "    cellsChoiceNum[nextCell] = 1\n",
    "    guardPathInfo = updateGuardPath(guardPathInfo, startCell, nextCell, cells)\n",
    "    \n",
    "    for i in range(2,1000):\n",
    "        #iteration > 1\n",
    "        currCell = nextCell\n",
    "        cellsProb = updateCellProb(cells, cellsProb, currCell, i, cellsChoiceNum)\n",
    "        nextCell = findNextCell(cellsProb)\n",
    "        cellsChoiceNum[nextCell] = cellsChoiceNum[nextCell] + 1 \n",
    "        guardPathInfo = updateGuardPath(guardPathInfo, currCell, nextCell, cells)\n",
    "        \n",
    "    return updatePathInfo(guardPathInfo)\n",
    "\n",
    "\n",
    "cells = ['a', 'b', 'c']\n",
    "cellsChoiceNum = [0, 0, 0]\n",
    "guardPathInfo = {'ab':0, 'ac':0, 'ba':0, 'bc':0, 'ca':0, 'cb':0}\n",
    "\n",
    "guardStartCell = findGuardStartCell(cells)\n",
    "cellsProb = findProb(cells, guardStartCell, cellsChoiceNum, guardPathInfo)\n",
    "print(cellsProb)\n"
   ]
  },
  {
   "cell_type": "markdown",
   "metadata": {},
   "source": [
    "Hypothesis 2:"
   ]
  },
  {
   "cell_type": "code",
   "execution_count": 101,
   "metadata": {},
   "outputs": [
    {
     "name": "stdout",
     "output_type": "stream",
     "text": [
      "{'ab': 0.0960352422907489, 'ac': 0.9039647577092511, 'ba': 0.7958904109589041, 'bc': 0.20410958904109588, 'ca': 0.2942297223734349, 'cb': 0.7057702776265651}\n"
     ]
    }
   ],
   "source": [
    "import numpy as np\n",
    "\n",
    "\n",
    "def findGuardStartCell(cells):\n",
    "    cellIndex = np.random.choice(np.arange(0,3))\n",
    "    return cellIndex\n",
    "\n",
    "def findNextCell(cellsProb):\n",
    "    return np.random.choice(np.arange(0,3), p=cellsProb)\n",
    "\n",
    "def findPathProbGuard(guardPathProb, currCell):\n",
    "    allMoves = list(guardPathProb.keys())\n",
    "    nextCellInfo = []\n",
    "    \n",
    "    for i in range(6):\n",
    "        if allMoves[i][0] == cells[currCell]:\n",
    "            nextCellInfo.append(allMoves[i])\n",
    "            nextCellInfo.append(guardPathProb[allMoves[i]])\n",
    "    \n",
    "    return nextCellInfo\n",
    "\n",
    "def updateCellProb(cells, cellsProb, currCell, guardPathProb):\n",
    "    \n",
    "    cellsProb[currCell] = 0\n",
    "    nextCellInfo = findPathProbGuard(guardPathProb, currCell)\n",
    "    \n",
    "    for i in range(4):\n",
    "        if i%2 == 0:\n",
    "            for j in range(3):\n",
    "                if cells[j] == nextCellInfo[i][1]:\n",
    "                    cellsProb[j] = nextCellInfo[i+1]\n",
    "    return cellsProb\n",
    "    \n",
    "\n",
    "def updateGuardPath(guardPathProbGuess, currCell, nextCell, cells):\n",
    "    allMoves = list(guardPathProbGuess.keys())\n",
    "    \n",
    "    for i in range(6):\n",
    "        if allMoves[i][0] == cells[currCell] and allMoves[i][1] == cells[nextCell]:\n",
    "            guardPathProbGuess[allMoves[i]] = guardPathProbGuess[allMoves[i]] + 1\n",
    "            \n",
    "    return guardPathProbGuess\n",
    "\n",
    "def findPathProbGuess(guardPathProbGuess):\n",
    "    allMoves = list(guardPathProbGuess.keys())\n",
    "    \n",
    "    for i in range(6):\n",
    "        if i%2 == 0:\n",
    "            totalCellMoves = guardPathProbGuess[allMoves[i]] + guardPathProbGuess[allMoves[i+1]]\n",
    "            guardPathProbGuess[allMoves[i]] = guardPathProbGuess[allMoves[i]] / totalCellMoves\n",
    "            guardPathProbGuess[allMoves[i+1]] = guardPathProbGuess[allMoves[i+1]] / totalCellMoves\n",
    "    return guardPathProbGuess        \n",
    "    \n",
    "def aBeliefUpdating(cells, startCell, guardPathProbGuess, guardPathInfo):\n",
    "    #setting initial probability\n",
    "    #iteration 1\n",
    "    cellsProb = [0 for i in range(3)]\n",
    "    cellsProb = updateCellProb(cells, cellsProb, startCell, guardPathProb)\n",
    "    nextCell = findNextCell(cellsProb)\n",
    "    guardPathProbGuess = updateGuardPath(guardPathProbGuess, startCell, nextCell, cells)\n",
    "    \n",
    "    for i in range(2,10000):\n",
    "        #iteration > 1\n",
    "        currCell = nextCell\n",
    "        cellsProb = updateCellProb(cells, cellsProb, currCell, guardPathProb)\n",
    "        nextCell = findNextCell(cellsProb)\n",
    "        guardPathProbGuess = updateGuardPath(guardPathProbGuess, currCell, nextCell, cells)\n",
    "           \n",
    "    return findPathProbGuess(guardPathProbGuess)\n",
    "\n",
    "\n",
    "cells = ['a', 'b', 'c']\n",
    "cellsChoiceNum = [0, 0, 0]\n",
    "guardPathProb = {'ab':0.1, 'ac':0.9, 'ba':0.8, 'bc':0.2, 'ca':0.3, 'cb':0.7}\n",
    "guardPathProbGuess = {'ab':0, 'ac':0, 'ba':0, 'bc':0, 'ca':0, 'cb':0}\n",
    "\n",
    "guardStartCell = findGuardStartCell(cells)\n",
    "guardPathProbGuess = aBeliefUpdating(cells, guardStartCell, guardPathProbGuess, guardPathInfo)\n",
    "print(guardPathProbGuess)\n"
   ]
  },
  {
   "cell_type": "code",
   "execution_count": null,
   "metadata": {},
   "outputs": [],
   "source": []
  }
 ],
 "metadata": {
  "kernelspec": {
   "display_name": "Python 3",
   "language": "python",
   "name": "python3"
  },
  "language_info": {
   "codemirror_mode": {
    "name": "ipython",
    "version": 3
   },
   "file_extension": ".py",
   "mimetype": "text/x-python",
   "name": "python",
   "nbconvert_exporter": "python",
   "pygments_lexer": "ipython3",
   "version": "3.6.8"
  }
 },
 "nbformat": 4,
 "nbformat_minor": 2
}
